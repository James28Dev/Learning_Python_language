{
  "nbformat": 4,
  "nbformat_minor": 0,
  "metadata": {
    "colab": {
      "provenance": [],
      "authorship_tag": "ABX9TyOgxZuHKEfco2d3nCXikWJ7",
      "include_colab_link": true
    },
    "kernelspec": {
      "name": "python3",
      "display_name": "Python 3"
    },
    "language_info": {
      "name": "python"
    }
  },
  "cells": [
    {
      "cell_type": "markdown",
      "metadata": {
        "id": "view-in-github",
        "colab_type": "text"
      },
      "source": [
        "<a href=\"https://colab.research.google.com/github/James28Dev/Learning_Python_language/blob/main/Example1.ipynb\" target=\"_parent\"><img src=\"https://colab.research.google.com/assets/colab-badge.svg\" alt=\"Open In Colab\"/></a>"
      ]
    },
    {
      "cell_type": "code",
      "execution_count": 8,
      "metadata": {
        "id": "Cqytgh482mId",
        "colab": {
          "base_uri": "https://localhost:8080/"
        },
        "outputId": "b11ae4db-37b5-497a-a43d-713b9d30e1c5"
      },
      "outputs": [
        {
          "output_type": "stream",
          "name": "stdout",
          "text": [
            "Emil\n",
            "Emil\n",
            "Jaksit\n"
          ]
        }
      ],
      "source": [
        "def my_function(fname, num):\n",
        "  for x in range(0, num):\n",
        "    print(fname)\n",
        "\n",
        "my_function(\"Emil\", 2)\n",
        "my_function(\"Jaksit\", 1)"
      ]
    },
    {
      "cell_type": "code",
      "source": [
        "def triangle(base, height):\n",
        "  return 0.5 * base * height\n",
        "\n",
        "base = float(input(\"Enter base : \")) #input() รับข้อมูลจากคีย์บอร์ด\n",
        "height = float(input(\"Enter height : \"))\n",
        "print(f\"Triangle area = {triangle(base, height):.2f}\") #:.2f แสดงทศนิยม 2 ตำแหน่ง"
      ],
      "metadata": {
        "colab": {
          "base_uri": "https://localhost:8080/"
        },
        "id": "zbNPHKII8-00",
        "outputId": "305539ce-744b-4bae-da9a-3f771b169ead"
      },
      "execution_count": 1,
      "outputs": [
        {
          "output_type": "stream",
          "name": "stdout",
          "text": [
            "Enter base : 5.5\n",
            "Enter height : 7.99\n",
            "Triangle area = 21.97\n"
          ]
        }
      ]
    },
    {
      "cell_type": "code",
      "source": [
        "def circle(radius):\n",
        "  area = 22.0 / 7.0 * radius * radius\n",
        "  print(f\"Area = {area:.2f}\")\n",
        "\n",
        "circle(15)\n",
        "circle(10.5)\n",
        "circle(31)"
      ],
      "metadata": {
        "colab": {
          "base_uri": "https://localhost:8080/"
        },
        "id": "oEQ1SjTl-pjL",
        "outputId": "3c474f29-1bf7-449a-f27d-324bebd07274"
      },
      "execution_count": 4,
      "outputs": [
        {
          "output_type": "stream",
          "name": "stdout",
          "text": [
            "Area = 707.14\n",
            "Area = 346.50\n",
            "Area = 3020.29\n"
          ]
        }
      ]
    },
    {
      "cell_type": "code",
      "source": [
        "def sum(a, b):\n",
        "    return (a + b)\n",
        "\n",
        "a = int(input(\"Enter 1st number: \"))\n",
        "b = int(input(\"Enter 2nd number: \"))\n",
        "print(f\"{a} + {b} = {sum(a, b)}\")"
      ],
      "metadata": {
        "colab": {
          "base_uri": "https://localhost:8080/"
        },
        "id": "1A-T0sHyJ1ug",
        "outputId": "af88889a-5340-41e7-81bc-99fbb46dadab"
      },
      "execution_count": 4,
      "outputs": [
        {
          "output_type": "stream",
          "name": "stdout",
          "text": [
            "Enter 1st number: 5\n",
            "Enter 2nd number: 7\n",
            "5 + 7 = 12\n"
          ]
        }
      ]
    },
    {
      "cell_type": "code",
      "source": [],
      "metadata": {
        "id": "9uH-TazoKlnP"
      },
      "execution_count": null,
      "outputs": []
    }
  ]
}